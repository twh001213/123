{
  "cells": [
    {
      "cell_type": "markdown",
      "metadata": {
        "id": "4oz9Am4_Oyb9"
      },
      "source": [
        "# 流程控制"
      ]
    },
    {
      "cell_type": "markdown",
      "metadata": {
        "id": "q4OCyY1FOycA"
      },
      "source": [
        "## if else"
      ]
    },
    {
      "cell_type": "code",
      "execution_count": null,
      "metadata": {
        "id": "VNIU2Py0OycA",
        "outputId": "afaf5233-0e6d-4512-94bf-07f033dfd027"
      },
      "outputs": [
        {
          "name": "stdout",
          "output_type": "stream",
          "text": [
            "b是比較大的數\n"
          ]
        }
      ],
      "source": [
        "a=3\n",
        "b=4\n",
        "if a <= b:\n",
        "    print(\"b是比較大的數\")\n",
        "else:\n",
        "    print(\"a是比較大的數\")"
      ]
    },
    {
      "cell_type": "markdown",
      "metadata": {
        "id": "qixZLmHKOycC"
      },
      "source": [
        "## for 迴圈"
      ]
    },
    {
      "cell_type": "code",
      "execution_count": null,
      "metadata": {
        "id": "C9asMAZrOycC",
        "outputId": "e12e57bb-0c77-49a8-977c-a9e40f6c9a00"
      },
      "outputs": [
        {
          "name": "stdout",
          "output_type": "stream",
          "text": [
            "55\n"
          ]
        }
      ],
      "source": [
        "sum=0\n",
        "for count in range(1,11,1):  #1 2 3 4 5 6 7 8 9 10 沒有11, step:1\n",
        "    sum = sum + count\n",
        "print(sum)"
      ]
    },
    {
      "cell_type": "code",
      "execution_count": null,
      "metadata": {
        "id": "JPMeX6cwOycD",
        "outputId": "ff811263-a77e-46ea-cbc2-c1fb2dd3d164"
      },
      "outputs": [
        {
          "name": "stdout",
          "output_type": "stream",
          "text": [
            "55\n"
          ]
        }
      ],
      "source": [
        "sum=0\n",
        "for count in range(1,11):  #1 2 3 4 5 6 7 8 9 10 沒有11, step:1\n",
        "    sum = sum + count\n",
        "print(sum)"
      ]
    },
    {
      "cell_type": "code",
      "execution_count": null,
      "metadata": {
        "id": "lL0oGAkjOycD",
        "outputId": "2e0279a0-819d-4309-bc7f-d15dc5f0194f"
      },
      "outputs": [
        {
          "name": "stdout",
          "output_type": "stream",
          "text": [
            "55\n"
          ]
        }
      ],
      "source": [
        "sum=0\n",
        "for count in range(11):  #1 2 3 4 5 6 7 8 9 10 沒有11, step:1\n",
        "    sum = sum + count\n",
        "print(sum)"
      ]
    },
    {
      "cell_type": "code",
      "execution_count": null,
      "metadata": {
        "id": "wJmh_dInOycE",
        "outputId": "971d7b6e-7b6c-4312-a9e0-8f3cff7083be"
      },
      "outputs": [
        {
          "name": "stdout",
          "output_type": "stream",
          "text": [
            "f\n",
            "o\n",
            "r\n",
            " \n",
            "s\n",
            "t\n",
            "a\n",
            "t\n",
            "e\n",
            "m\n",
            "e\n",
            "n\n",
            "t\n",
            "end list\n"
          ]
        }
      ],
      "source": [
        "mylist=\"for statement\"\n",
        "for word in mylist:\n",
        "    print(word)\n",
        "else:\n",
        "    print(\"end list\")"
      ]
    },
    {
      "cell_type": "markdown",
      "metadata": {
        "id": "ks7JUXHDOycE"
      },
      "source": [
        "### 雞兔同籠  假設一個農場雞兔共有35頭，94隻腳，請問共有幾隻雞，幾隻兔?"
      ]
    },
    {
      "cell_type": "code",
      "execution_count": null,
      "metadata": {
        "id": "C_asXLIqOycF",
        "outputId": "4f21463c-1e0c-4a7b-fb34-cbfa7f941a32"
      },
      "outputs": [
        {
          "name": "stdout",
          "output_type": "stream",
          "text": [
            "雞有 23 隻, 兔子有 12 隻\n"
          ]
        }
      ],
      "source": [
        "for chicken in range(0,35):\n",
        "    rabbit=35-chicken\n",
        "    if (2*chicken+4*rabbit)==94:\n",
        "        print(\"雞有\",chicken,\"隻, 兔子有\",rabbit,\"隻\")\n",
        "        break\n",
        "else:\n",
        "    print(\"無解\")"
      ]
    },
    {
      "cell_type": "markdown",
      "metadata": {
        "id": "JeWkB_4ZOycG"
      },
      "source": [
        "## while迴圈"
      ]
    },
    {
      "cell_type": "code",
      "execution_count": null,
      "metadata": {
        "id": "r5VxiK3XOycG",
        "outputId": "d6436c37-afd0-4252-fde4-98b22013c8e8"
      },
      "outputs": [
        {
          "name": "stdout",
          "output_type": "stream",
          "text": [
            "1+2+3+...+10= 55\n"
          ]
        }
      ],
      "source": [
        "sum=0\n",
        "count=1\n",
        "while count <=10:\n",
        "    sum=sum+count\n",
        "    count=count+1\n",
        "print(\"1+2+3+...+10=\", sum)"
      ]
    },
    {
      "cell_type": "markdown",
      "metadata": {
        "id": "UjH1FwRIOycG"
      },
      "source": [
        "### 本金10000元，年利率1%，請問多久銀行存款會加倍"
      ]
    },
    {
      "cell_type": "code",
      "execution_count": null,
      "metadata": {
        "id": "QLlMh06YOycG",
        "outputId": "a52bd97b-2175-4cd1-8fcb-f267090d6606"
      },
      "outputs": [
        {
          "name": "stdout",
          "output_type": "stream",
          "text": [
            "70 年以後，存款加倍，為 20067 元\n"
          ]
        }
      ],
      "source": [
        "x=10000\n",
        "year=0\n",
        "while x <= 20000:\n",
        "    year += 1\n",
        "    x=x*1.01\n",
        "print(str(year),\"年以後，存款加倍，為\",int(x),\"元\")"
      ]
    },
    {
      "cell_type": "markdown",
      "metadata": {
        "id": "MlS0kMdXOycH"
      },
      "source": [
        "### 猜數字"
      ]
    },
    {
      "cell_type": "code",
      "execution_count": null,
      "metadata": {
        "id": "BBPmIJEZOycH",
        "outputId": "caa76bd1-d638-4b70-b721-ca197c7e449a"
      },
      "outputs": [
        {
          "name": "stdout",
          "output_type": "stream",
          "text": [
            "請輸入1~100之間的數字：12\n",
            "猜錯了\n",
            "請輸入1~100之間的數字：13\n",
            "猜錯了\n",
            "請輸入1~100之間的數字：14\n",
            "猜錯了\n",
            "請輸入1~100之間的數字：15\n",
            "猜錯了\n",
            "請輸入1~100之間的數字：16\n",
            "猜錯了\n",
            "請輸入1~100之間的數字：14\n",
            "猜錯了\n",
            "請輸入1~100之間的數字：11\n",
            "你猜對了，數字是： 11\n"
          ]
        }
      ],
      "source": [
        "number=11\n",
        "while True:\n",
        "    guess=int(input('請輸入1~100之間的數字：'))\n",
        "    if guess == number:\n",
        "        print('你猜對了，數字是：',number)\n",
        "        break\n",
        "    else:\n",
        "        print('猜錯了')"
      ]
    },
    {
      "cell_type": "code",
      "execution_count": null,
      "metadata": {
        "id": "G1X6JON1OycH",
        "outputId": "bfdf18ac-103c-4945-8d59-631624609e29"
      },
      "outputs": [
        {
          "name": "stdout",
          "output_type": "stream",
          "text": [
            "請輸入1~10之間的數字：1\n",
            "猜錯了\n",
            "請輸入1~10之間的數字：2\n",
            "你猜對了，數字是： 2\n"
          ]
        }
      ],
      "source": [
        "import random\n",
        "number=random.randint(1,10)\n",
        "while True:\n",
        "    guess=int(input('請輸入1~10之間的數字：'))\n",
        "    if guess == number:\n",
        "        print('你猜對了，數字是：',number)\n",
        "        break\n",
        "    else:\n",
        "        print('猜錯了')"
      ]
    },
    {
      "cell_type": "code",
      "execution_count": null,
      "metadata": {
        "id": "oaTAxJtSOycI"
      },
      "outputs": [],
      "source": [
        ""
      ]
    }
  ],
  "metadata": {
    "kernelspec": {
      "display_name": "Python 3",
      "language": "python",
      "name": "python3"
    },
    "language_info": {
      "codemirror_mode": {
        "name": "ipython",
        "version": 3
      },
      "file_extension": ".py",
      "mimetype": "text/x-python",
      "name": "python",
      "nbconvert_exporter": "python",
      "pygments_lexer": "ipython3",
      "version": "3.7.4"
    },
    "colab": {
      "name": "Chap3.ipynb",
      "provenance": []
    }
  },
  "nbformat": 4,
  "nbformat_minor": 0
}